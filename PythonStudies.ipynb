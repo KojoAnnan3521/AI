{
  "nbformat": 4,
  "nbformat_minor": 0,
  "metadata": {
    "colab": {
      "provenance": [],
      "authorship_tag": "ABX9TyNdz0FlpQCZyhKMAgbzHZOK",
      "include_colab_link": true
    },
    "kernelspec": {
      "name": "python3",
      "display_name": "Python 3"
    },
    "language_info": {
      "name": "python"
    }
  },
  "cells": [
    {
      "cell_type": "markdown",
      "metadata": {
        "id": "view-in-github",
        "colab_type": "text"
      },
      "source": [
        "<a href=\"https://colab.research.google.com/github/KojoAnnan3521/AI/blob/main/PythonStudies.ipynb\" target=\"_parent\"><img src=\"https://colab.research.google.com/assets/colab-badge.svg\" alt=\"Open In Colab\"/></a>"
      ]
    },
    {
      "cell_type": "code",
      "execution_count": 15,
      "metadata": {
        "colab": {
          "base_uri": "https://localhost:8080/"
        },
        "id": "htU1AQ63K0Fp",
        "outputId": "2dcdb695-3232-458b-c52c-07cf6e49a3c3"
      },
      "outputs": [
        {
          "output_type": "stream",
          "name": "stdout",
          "text": [
            "13\n",
            "['Kwansema', 'Kwamena', 'Atta', 'Aluah', 'Kwekum', 'Menama', 'Adwoa', 'Amasam', 'Nashipingi', 'Revelation', 'prosper', 'gibbah', 'reason']\n",
            "\n",
            "\n",
            "[]\n",
            "['Kwekum']\n",
            "\n",
            "\n",
            "['KWANSEMA', 'KWAMENA', 'ATTA', 'ALUAH', 'MENAMA', 'ADWOA', 'AMASAM', 'NASHIPINGI', 'REVELATION', 'GIBBAH', 'REASON']\n"
          ]
        }
      ],
      "source": [
        "Family = [\"Kwansema\", \"Kwamena\", \"Atta\", \"Aluah\"]\n",
        "Siblings = [\"Kwekum\", \"Menama\", \"Adwoa\", \"Amasam\"]\n",
        "Family.extend(Siblings)\n",
        "Friends = [\"Nashipingi\", \"Revelation\", \"prosper\", \"gibbah\", \"reason\"]\n",
        "Family.extend(Friends)\n",
        "print(len(Family))\n",
        "print(Family)\n",
        "print(\"\\n\")\n",
        "NewFamily = []\n",
        "print(NewFamily)\n",
        "for x in Family:\n",
        "  if \"k\" in x:\n",
        "    NewFamily.append(x)\n",
        "print(NewFamily)\n",
        "\n",
        "print(\"\\n\")\n",
        "\n",
        "NewList = [x.upper() for x in Family if \"a\" in x]\n",
        "print(NewList)\n"
      ]
    },
    {
      "cell_type": "code",
      "source": [
        "Number = [x for x in range(10) if x<=5]\n",
        "print(Number)\n",
        "Number.sort(reverse=True)\n",
        "print(Number)"
      ],
      "metadata": {
        "colab": {
          "base_uri": "https://localhost:8080/"
        },
        "id": "mOsj7TEcNlSj",
        "outputId": "eca40b8a-648f-443d-8850-148937aa62b5"
      },
      "execution_count": 1,
      "outputs": [
        {
          "output_type": "stream",
          "name": "stdout",
          "text": [
            "[0, 1, 2, 3, 4, 5]\n",
            "[5, 4, 3, 2, 1, 0]\n"
          ]
        }
      ]
    },
    {
      "cell_type": "code",
      "source": [
        "#Creating my own my function to sort numbers\n",
        "\n",
        "def Myfunc(n):\n",
        "  return n\n",
        "Number = [0, 40, 90, 100, 50, 60, 5, 50, 69]\n",
        "Number.sort(key=Myfunc)\n",
        "print(Number) #Printing or displaying the ascending form of the numbers\n",
        "Number.sort(reverse=True) #Sorting the numbers in descending order\n",
        "print(Number) #Printing or displaying the descending form of the numbers"
      ],
      "metadata": {
        "colab": {
          "base_uri": "https://localhost:8080/"
        },
        "id": "EinXut9VQlZS",
        "outputId": "fcc407e7-ef54-4f0d-a812-765b873c9a69"
      },
      "execution_count": 71,
      "outputs": [
        {
          "output_type": "stream",
          "name": "stdout",
          "text": [
            "[0, 5, 40, 50, 50, 60, 69, 90, 100]\n",
            "[100, 90, 69, 60, 50, 50, 40, 5, 0]\n"
          ]
        }
      ]
    },
    {
      "cell_type": "code",
      "source": [
        "Friends = [\"Nashipingi\", \"Revelation\", \"prosper\", \"gibbah\", \"reason\"]\n",
        "Friends.sort() #sorting the names of friends in ascending order\n",
        "print(Friends)\n",
        "\n",
        "print(\"\\n\")\n",
        "\n",
        "Friends.sort(key=str.lower)\n",
        "Friends.sort(reverse=True) #Sorting the names of friends in descending order\n",
        "print(Friends)\n",
        "\n",
        "print(\"\\n\")\n",
        "\n",
        "Friends.sort(key=str.lower)# Making the sort case insensitive since it considers the upper case first before the lower case\n",
        "print(Friends)\n",
        "print(\"\\n\")\n",
        "Friends.reverse()\n",
        "print(Friends)"
      ],
      "metadata": {
        "colab": {
          "base_uri": "https://localhost:8080/"
        },
        "id": "IhODitNLR1A7",
        "outputId": "1c69ec6c-aadd-4fff-b215-0ba5b98c7103"
      },
      "execution_count": 16,
      "outputs": [
        {
          "output_type": "stream",
          "name": "stdout",
          "text": [
            "['Nashipingi', 'Revelation', 'gibbah', 'prosper', 'reason']\n",
            "\n",
            "\n",
            "['reason', 'prosper', 'gibbah', 'Revelation', 'Nashipingi']\n",
            "\n",
            "\n",
            "['gibbah', 'Nashipingi', 'prosper', 'reason', 'Revelation']\n",
            "\n",
            "\n",
            "['Revelation', 'reason', 'prosper', 'Nashipingi', 'gibbah']\n"
          ]
        }
      ]
    },
    {
      "cell_type": "code",
      "source": [
        "#Using the different copy() methods\n",
        "\n",
        "#Using copy()\n",
        "Friends = [\"Nashipingi\", \"Revelation\", \"prosper\", \"gibbah\", \"reason\"]\n",
        "\n",
        "fam = Friends.copy() #copying the list in the Friends to fam\n",
        "print(fam)\n",
        "\n",
        "print(\"\\n\")\n",
        "\n",
        "# Using the list() approach\n",
        "fam = list(Friends)\n",
        "print(fam)\n",
        "\n",
        "print(\"\\n\")\n",
        "\n",
        "#Using the slice operator [:]\n",
        "fam = Friends[:]\n",
        "print(fam)\n",
        "\n"
      ],
      "metadata": {
        "colab": {
          "base_uri": "https://localhost:8080/"
        },
        "id": "I_gR-my9aJkr",
        "outputId": "80652ceb-56bc-4b3b-a428-28000f3b3f25"
      },
      "execution_count": 20,
      "outputs": [
        {
          "output_type": "stream",
          "name": "stdout",
          "text": [
            "['Nashipingi', 'Revelation', 'prosper', 'gibbah', 'reason']\n",
            "\n",
            "\n",
            "['Nashipingi', 'Revelation', 'prosper', 'gibbah', 'reason']\n",
            "\n",
            "\n",
            "['Nashipingi', 'Revelation', 'prosper', 'gibbah', 'reason']\n"
          ]
        }
      ]
    },
    {
      "cell_type": "code",
      "source": [
        "#Using the f-string method to format strings\n",
        "Price = 50.00\n",
        "\n",
        "itemPrice = f\"The price of the item is {Price} GHS\"\n",
        "print(itemPrice)"
      ],
      "metadata": {
        "colab": {
          "base_uri": "https://localhost:8080/"
        },
        "id": "COMAdwJGd36p",
        "outputId": "93acee23-e7a8-4be1-ae90-2bd5bc9d593e"
      },
      "execution_count": 61,
      "outputs": [
        {
          "output_type": "stream",
          "name": "stdout",
          "text": [
            "The price of the item is 50.0 GHS\n"
          ]
        }
      ]
    },
    {
      "cell_type": "code",
      "source": [
        "# Using the join List approaches\n",
        "\n",
        "# 1. Using the + operator\n",
        "Friends = [\"Nashipingi\", \"Revelation\", \"prosper\", \"gibbah\", \"reason\"]\n",
        "FriendNum = [1,2,3,4,5]\n",
        "friends = Friends + FriendNum\n",
        "print(friends)\n",
        "\n",
        "print(\"\\n\")\n",
        "\n",
        "# 2. Using the extend approach\n",
        "Friends.extend(FriendNum)\n",
        "print(Friends)\n",
        "\n",
        "print(\"\\n\")\n",
        "\n",
        "# 3. Using the append() method\n",
        "Friends = [\"Nashipingi\", \"Revelation\", \"prosper\", \"gibbah\", \"reason\"]\n",
        "FriendNum = [1,2,3,4,5]\n",
        "for y in FriendNum:\n",
        "  Friends.append(y)\n",
        "print(Friends)\n"
      ],
      "metadata": {
        "colab": {
          "base_uri": "https://localhost:8080/"
        },
        "id": "TqY9KMJnhinq",
        "outputId": "50febbc1-e57d-4290-d14f-53a63b7ceacc"
      },
      "execution_count": 44,
      "outputs": [
        {
          "output_type": "stream",
          "name": "stdout",
          "text": [
            "['Nashipingi', 'Revelation', 'prosper', 'gibbah', 'reason', 1, 2, 3, 4, 5]\n",
            "\n",
            "\n",
            "['Nashipingi', 'Revelation', 'prosper', 'gibbah', 'reason', 1, 2, 3, 4, 5]\n",
            "\n",
            "\n",
            "['Nashipingi', 'Revelation', 'prosper', 'gibbah', 'reason', 1, 2, 3, 4, 5]\n"
          ]
        }
      ]
    },
    {
      "cell_type": "code",
      "source": [
        "# Time for Tuples\n",
        "\n",
        "MyList = (\"Beatrice\", \"Bonsu\", \"Elijah\", \"Kwame\")\n",
        "print(type(MyList))\n",
        "print(\"\\n\")\n",
        "print(len(MyList))\n",
        "print(\"\\n\")\n",
        "print(MyList)\n",
        "\n",
        "# OR\n",
        "\n",
        "print(\"\\n\")\n",
        "Mylist = tuple((\"Beatrice\", \"Bonsu\", \"Elijah\", \"Kwame\"))\n",
        "print(Mylist)\n",
        "\n",
        "print(\"\\n\")\n",
        "\n",
        "#Accesing tuples by indexing\n",
        "\n",
        "print(MyList[1]) #Accessing the name with index 1 being Bonsu\n",
        "print(\"\\n\")\n",
        "print(MyList[-1]) #Accessing the name with index -1 being Kwame\n",
        "print(\"\\n\")\n",
        "print(MyList[0:4])#Accessing the names from index 0 to 3 since the name with index 4 is excluded\n",
        "print(\"\\n\")\n",
        "print(MyList[-3:-1])\n",
        "\n",
        "print(\"\\n\")\n",
        "#Checking if an item exist in a tuple\n",
        "\n",
        "if \"Elijah\" in MyList:\n",
        "  print(\"Elijah is in the tuple\")\n",
        "else:\n",
        "  print(\"Elijah is not in the tuple\")\n",
        "print(\"\\n\")\n",
        "#Updating tuples which is done by converting it to list before changing it back to tuples\n",
        "\n",
        "Myfam = list(MyList)\n",
        "Myfam [3] = \"Kojo Annan\"\n",
        "MyList =tuple(Myfam)\n",
        "print(MyList)\n",
        "\n",
        "#OR\n",
        "print(\"\\n\")\n",
        "myFam =list(MyList)\n",
        "myFam.append(\"Kojo\")\n",
        "Mylist= tuple(myFam)\n",
        "print(MyList)\n",
        "\n",
        "#Removing Kojo from the myFam\n",
        "\n",
        "print(\"\\n\")\n",
        "\n",
        "myfam =list(myFam)\n",
        "myfam.remove(\"Kojo\")\n",
        "Mylist = tuple(myfam)\n",
        "print(MyList)\n",
        "\n",
        "# Adding the Kojo Again by adding a tuple to a tuple\n",
        "print(\"\\n\")\n",
        "My_Fam = (\"Kojo\",)\n",
        "MyList += My_Fam\n",
        "print(MyList)"
      ],
      "metadata": {
        "colab": {
          "base_uri": "https://localhost:8080/"
        },
        "id": "xuxkqjKdRxGN",
        "outputId": "b3fb4de3-899b-449e-85ef-5f9d07ed8600"
      },
      "execution_count": 18,
      "outputs": [
        {
          "output_type": "stream",
          "name": "stdout",
          "text": [
            "<class 'tuple'>\n",
            "\n",
            "\n",
            "4\n",
            "\n",
            "\n",
            "('Beatrice', 'Bonsu', 'Elijah', 'Kwame')\n",
            "\n",
            "\n",
            "('Beatrice', 'Bonsu', 'Elijah', 'Kwame')\n",
            "\n",
            "\n",
            "Bonsu\n",
            "\n",
            "\n",
            "Kwame\n",
            "\n",
            "\n",
            "('Beatrice', 'Bonsu', 'Elijah', 'Kwame')\n",
            "\n",
            "\n",
            "('Bonsu', 'Elijah')\n",
            "\n",
            "\n",
            "Elijah is in the tuple\n",
            "\n",
            "\n",
            "('Beatrice', 'Bonsu', 'Elijah', 'Kojo Annan')\n",
            "\n",
            "\n",
            "('Beatrice', 'Bonsu', 'Elijah', 'Kojo Annan')\n",
            "\n",
            "\n",
            "('Beatrice', 'Bonsu', 'Elijah', 'Kojo Annan')\n",
            "\n",
            "\n",
            "('Beatrice', 'Bonsu', 'Elijah', 'Kojo Annan', 'Kojo')\n"
          ]
        }
      ]
    },
    {
      "cell_type": "code",
      "source": [
        "#Unpacking in tuples. Tis is done by extracting the values back into variables\n",
        "\n",
        "(Lovely, Caring, Good, Responsible, Kind) = MyList\n",
        "print(Lovely)\n",
        "print(Caring)\n",
        "print(Good)\n",
        "print(Responsible)\n",
        "print(Kind)\n",
        "\n",
        "print(\"\\n\")\n",
        "\n",
        "#Using Asterisk*. This is used If the number of variables is less than the number of values. the remaining will be in List data type\n",
        "\n",
        "(lovely, caring, *responsible) = MyList\n",
        "print(lovely)\n",
        "print(caring)\n",
        "print(responsible)"
      ],
      "metadata": {
        "colab": {
          "base_uri": "https://localhost:8080/"
        },
        "id": "aQVnG8BndBt7",
        "outputId": "43d64a91-4571-4224-dda0-f0ccec86a5a1"
      },
      "execution_count": 23,
      "outputs": [
        {
          "output_type": "stream",
          "name": "stdout",
          "text": [
            "Beatrice\n",
            "Bonsu\n",
            "Elijah\n",
            "Kojo Annan\n",
            "Kojo\n",
            "\n",
            "\n",
            "Beatrice\n",
            "Bonsu\n",
            "['Elijah', 'Kojo Annan', 'Kojo']\n"
          ]
        }
      ]
    },
    {
      "cell_type": "code",
      "source": [
        "#Loop Tuples\n",
        "#Using for loop\n",
        "for x in MyList:\n",
        "  print(x)\n",
        "print(\"\\n\")\n",
        "#Using for loop with range() and len()\n",
        "for j in range(len(MyList)):\n",
        "  print(MyList[j])\n",
        "print(\"\\n\")\n",
        "#Using while loop\n",
        "y = 0\n",
        "while y < len(MyList):\n",
        "  print(MyList[y])\n",
        "  y =y + 1\n",
        "print(\"\\n\")"
      ],
      "metadata": {
        "colab": {
          "base_uri": "https://localhost:8080/"
        },
        "id": "xpFsapRuilyA",
        "outputId": "158bb263-19c2-4bfb-a224-88c79d8037c4"
      },
      "execution_count": 51,
      "outputs": [
        {
          "output_type": "stream",
          "name": "stdout",
          "text": [
            "Beatrice\n",
            "Bonsu\n",
            "Elijah\n",
            "Kojo Annan\n",
            "Kojo\n",
            "\n",
            "\n",
            "Beatrice\n",
            "Bonsu\n",
            "Elijah\n",
            "Kojo Annan\n",
            "Kojo\n",
            "\n",
            "\n",
            "Beatrice\n",
            "Bonsu\n",
            "Elijah\n",
            "Kojo Annan\n",
            "Kojo\n",
            "\n",
            "\n"
          ]
        }
      ]
    },
    {
      "cell_type": "code",
      "source": [
        "My_Count=MyList.count(\"Kojo\")\n",
        "print(My_Count)\n",
        "\n",
        "print(\"\\n\")\n",
        "\n",
        "My_Index = MyList.index(\"Beatrice\")\n",
        "print(My_Index)"
      ],
      "metadata": {
        "colab": {
          "base_uri": "https://localhost:8080/"
        },
        "id": "JNXUZSFbtIeI",
        "outputId": "317c71e7-9969-4800-b5c3-84a1edadf19f"
      },
      "execution_count": 59,
      "outputs": [
        {
          "output_type": "stream",
          "name": "stdout",
          "text": [
            "1\n",
            "\n",
            "\n",
            "0\n"
          ]
        }
      ]
    },
    {
      "cell_type": "code",
      "source": [
        "# Set\n",
        "#Accessing items in a set\n",
        "\n",
        "List = {6, True, 2, False, 3, 4, 5}\n",
        "print(List)\n",
        "\n",
        "print(\"\\n\")\n",
        "\n",
        "for i in  List:\n",
        "  print(i)\n",
        "\n",
        "print(\"\\n\")\n",
        "\n",
        "print(\"False\" in (List))"
      ],
      "metadata": {
        "colab": {
          "base_uri": "https://localhost:8080/"
        },
        "id": "MM9bNG6k-IK2",
        "outputId": "0dbc71f1-0e84-4042-c31a-c9e1a6f74fda"
      },
      "execution_count": 77,
      "outputs": [
        {
          "output_type": "stream",
          "name": "stdout",
          "text": [
            "{False, True, 2, 3, 4, 5, 6}\n",
            "\n",
            "\n",
            "False\n",
            "True\n",
            "2\n",
            "3\n",
            "4\n",
            "5\n",
            "6\n",
            "\n",
            "\n",
            "False\n"
          ]
        }
      ]
    },
    {
      "cell_type": "code",
      "source": [
        "# Add set using the add()\n",
        "\n",
        "List.add(7)\n",
        "List.add(8)\n",
        "List.add(9)\n",
        "List.add(10)\n",
        "print(List)\n",
        "\n",
        "print(\"\\n\")\n",
        "\n",
        "#Using the Update()\n",
        "\n",
        "List_2 = {11,12,13,14,15,16,17,18,19,20}\n",
        "\n",
        "List.update(List_2)\n",
        "print(List)\n",
        "\n",
        "#Or\n",
        "\n",
        "print(\"\\n\")\n",
        "\n",
        "List_3 = (21,22,23,24,25,26,27,28,29,30) #Adding a tuple to a set using the update()\n",
        "List.update(List_3)\n",
        "print(List)"
      ],
      "metadata": {
        "colab": {
          "base_uri": "https://localhost:8080/"
        },
        "id": "Y68kibIqBY4Y",
        "outputId": "dbf5722b-9b09-4734-ded6-c690365531a5"
      },
      "execution_count": 84,
      "outputs": [
        {
          "output_type": "stream",
          "name": "stdout",
          "text": [
            "{False, True, 2, 3, 4, 5, 6, 7, 8, 9, 10, 11, 12, 13, 14, 15, 16, 17, 18, 19, 20}\n",
            "\n",
            "\n",
            "{False, True, 2, 3, 4, 5, 6, 7, 8, 9, 10, 11, 12, 13, 14, 15, 16, 17, 18, 19, 20}\n",
            "\n",
            "\n",
            "{False, True, 2, 3, 4, 5, 6, 7, 8, 9, 10, 11, 12, 13, 14, 15, 16, 17, 18, 19, 20, 21, 22, 23, 24, 25, 26, 27, 28, 29, 30}\n"
          ]
        }
      ]
    },
    {
      "cell_type": "code",
      "source": [
        "#Removing set item\n",
        "\n",
        "print(\"\\n\")\n",
        "List.discard(24)\n",
        "List.discard(23)\n",
        "List.discard(22)\n",
        "List.discard(21)\n",
        "print(List)\n",
        "print (\"\\n\")\n",
        "#set loop\n",
        "\n",
        "for x in List:\n",
        "  print(x)\n",
        "\n"
      ],
      "metadata": {
        "colab": {
          "base_uri": "https://localhost:8080/"
        },
        "id": "en8yY9_zE0vT",
        "outputId": "0733a684-d363-47ae-d82f-fab5c60e3103"
      },
      "execution_count": 95,
      "outputs": [
        {
          "output_type": "stream",
          "name": "stdout",
          "text": [
            "\n",
            "\n",
            "{False, True, 2, 3, 4, 5, 6, 7, 8, 9, 10, 11, 12, 13, 14, 15, 16, 17, 18, 19, 20}\n",
            "\n",
            "\n",
            "False\n",
            "True\n",
            "2\n",
            "3\n",
            "4\n",
            "5\n",
            "6\n",
            "7\n",
            "8\n",
            "9\n",
            "10\n",
            "11\n",
            "12\n",
            "13\n",
            "14\n",
            "15\n",
            "16\n",
            "17\n",
            "18\n",
            "19\n",
            "20\n"
          ]
        }
      ]
    },
    {
      "cell_type": "code",
      "source": [
        "List_1 = {0,1,2,3,4,5}\n",
        "List_2 = {6,7,8,9,10}\n",
        "List_3 = {11,12,13,14,15}\n",
        "List_4 = {16,17,18,19,20}\n",
        "\n",
        "List_5 = List_1|List_2|List_3\n",
        "print(List_5)\n",
        "\n",
        "print(\"\\n\")\n",
        "\n",
        "List_6 = List_1.union(List_2,List_3,List_4)\n",
        "print(List_6)\n",
        "\n",
        "print(\"\\n\")\n",
        "\n",
        "List_1.update(List_2,List_3, List_4)\n",
        "print(List_1)\n",
        "\n",
        "print (\"\\n\")\n",
        "\n",
        "List7 = List_5.intersection(List_6)\n",
        "print(List7)\n",
        "\n",
        "print(\"\\n\")\n",
        "\n",
        "#The intersection() method will return a new set, that only contains the items that are present in both sets.\n",
        "List_1.intersection_update(List_2,List_3,List_4)\n",
        "print(List_1)\n",
        "\n",
        "print(\"\\n\")\n",
        "\n",
        "#using the & operator instead of the intersection() method, and you will get the same result.\n",
        "set1 = {\"apple\", \"banana\", \"cherry\"}\n",
        "set2 = {\"google\", \"microsoft\", \"apple\"}\n",
        "\n",
        "set3 = set1 & set2\n",
        "print(set3)\n",
        "print(\"\\n\")\n",
        "\n",
        "#The difference() method will return a new set that will contain only the items from the first set that are not present in the other set.\n",
        "\n",
        "set1 = {\"apple\", \"banana\", \"cherry\"}\n",
        "set2 = {\"google\", \"microsoft\", \"apple\"}\n",
        "\n",
        "set3 = set1.difference(set2)\n",
        "\n",
        "print(set3)"
      ],
      "metadata": {
        "colab": {
          "base_uri": "https://localhost:8080/"
        },
        "id": "GlbidFRFIgLG",
        "outputId": "c879d6e8-0eff-464b-9d71-01229c16e6f1"
      },
      "execution_count": 105,
      "outputs": [
        {
          "output_type": "stream",
          "name": "stdout",
          "text": [
            "{0, 1, 2, 3, 4, 5, 6, 7, 8, 9, 10, 11, 12, 13, 14, 15}\n",
            "\n",
            "\n",
            "{0, 1, 2, 3, 4, 5, 6, 7, 8, 9, 10, 11, 12, 13, 14, 15, 16, 17, 18, 19, 20}\n",
            "\n",
            "\n",
            "{0, 1, 2, 3, 4, 5, 6, 7, 8, 9, 10, 11, 12, 13, 14, 15, 16, 17, 18, 19, 20}\n",
            "\n",
            "\n",
            "{0, 1, 2, 3, 4, 5, 6, 7, 8, 9, 10, 11, 12, 13, 14, 15}\n",
            "\n",
            "\n",
            "set()\n",
            "\n",
            "\n",
            "{'apple'}\n",
            "\n",
            "\n",
            "{'banana', 'cherry'}\n"
          ]
        }
      ]
    }
  ]
}