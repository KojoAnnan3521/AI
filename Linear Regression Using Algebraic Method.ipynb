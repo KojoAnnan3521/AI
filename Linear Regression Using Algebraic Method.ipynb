{
  "nbformat": 4,
  "nbformat_minor": 0,
  "metadata": {
    "colab": {
      "provenance": [],
      "authorship_tag": "ABX9TyOxRzPAKV4Wq77nNCwbuLsq",
      "include_colab_link": true
    },
    "kernelspec": {
      "name": "python3",
      "display_name": "Python 3"
    },
    "language_info": {
      "name": "python"
    }
  },
  "cells": [
    {
      "cell_type": "markdown",
      "metadata": {
        "id": "view-in-github",
        "colab_type": "text"
      },
      "source": [
        "<a href=\"https://colab.research.google.com/github/KojoAnnan3521/AI/blob/main/Linear%20Regression%20Using%20Algebraic%20Method.ipynb\" target=\"_parent\"><img src=\"https://colab.research.google.com/assets/colab-badge.svg\" alt=\"Open In Colab\"/></a>"
      ]
    },
    {
      "cell_type": "code",
      "source": [
        "#Multivariate linear regression\n",
        "#Currently considering the Linear Regression with Algebraic Method 1\n",
        "import numpy as np\n",
        "\n",
        "#Defining the features of the house as sizeo house, number of rooms, and the age of the house\n",
        "#First Numbers=Size of house, 2nd No.=Number of rooms and 3rd No.=Number of Years of the house\n",
        "x = np.array([\n",
        "    [40, 2, 10],\n",
        "    [63, 3, 15],\n",
        "    [75, 3, 15],\n",
        "    [83, 4, 25],\n",
        "    [92, 4, 30],\n",
        "    [102, 5, 35]\n",
        "], dtype=np.float32)"
      ],
      "metadata": {
        "id": "VB3feEh99imx"
      },
      "execution_count": 9,
      "outputs": []
    },
    {
      "cell_type": "code",
      "source": [
        "#Defining the prices of the houses\n",
        "#Doing Linear aregression using algebraic method\n",
        "#The values of y are the labels\n",
        "#For better performance, dtype=np.float32 is used. in short for memory efficiency\n",
        "y = np.array([[105], [125],[145], [163],[182], [105]], dtype=np.float32)"
      ],
      "metadata": {
        "id": "WMN-4EwBEOqf"
      },
      "execution_count": 12,
      "outputs": []
    },
    {
      "cell_type": "code",
      "source": [
        "x_bias=np.c_[np.ones((x.shape[0],1)), x] #Adding a column of ones to x (for the bias term in linear regression)\n",
        "\n",
        "#Calculating the weight of the model i.e w=(X^T*X)^-1(X^T*Y)\n",
        "w = np.linalg.inv(x_bias.T.dot(x_bias)).dot(x_bias.T).dot(y)\n",
        "\n",
        "print(\"Regression Parameters are: \")\n",
        "print(f\"Bias (w0): {w[0][0]:.4f}\")\n",
        "print(f\"Weight for a Feature 1 (w1) : {w[1][0]:.4f}\")\n",
        "print(f\"Weight for a Feature 2 (w2) : {w[2][0]:.4f}\")\n",
        "print(f\"Weight for a Feature 3 (w3) : {w[3][0]:.4f}\")"
      ],
      "metadata": {
        "colab": {
          "base_uri": "https://localhost:8080/"
        },
        "id": "Y5nhsIwnPyjm",
        "outputId": "f60980ae-60ac-4b3a-c61c-c1eb18f8ae7f"
      },
      "execution_count": 14,
      "outputs": [
        {
          "output_type": "stream",
          "name": "stdout",
          "text": [
            "Regression Parameters are: \n",
            "Bias (w0): 127.6298\n",
            "Weight for a Feature 1 (w1) : 3.2260\n",
            "Weight for a Feature 2 (w2) : -85.2067\n",
            "Weight for a Feature 3 (w3) : 2.9288\n"
          ]
        }
      ]
    },
    {
      "cell_type": "code",
      "source": [
        "#Calculating the predicted value of y\n",
        "\n",
        "y_Pred=x_bias.dot(w)\n",
        "MSE= np.mean((y-y_Pred)**2)\n",
        "print(f\"Mean Squared Error on Training Data: {MSE:.4f}\")"
      ],
      "metadata": {
        "colab": {
          "base_uri": "https://localhost:8080/"
        },
        "id": "51lLPfFhS3fS",
        "outputId": "a4f3256d-73ef-4519-f711-a8189682753c"
      },
      "execution_count": 15,
      "outputs": [
        {
          "output_type": "stream",
          "name": "stdout",
          "text": [
            "Mean Squared Error on Training Data: 409.2540\n"
          ]
        }
      ]
    },
    {
      "cell_type": "code",
      "source": [
        "#Making Predictions on New Data\n",
        "\n",
        "x_new = np.array([\n",
        "    [55, 2.5, 12],\n",
        "    [68, 3.5, 17],\n",
        "    [82, 4.5, 22],\n",
        "    [95, 5, 28],\n",
        "    [110, 5.5, 32]\n",
        "], dtype=np.float32)\n",
        "\n",
        "x_new_b=np.c_[np.ones((x_new.shape[0], 1)), x_new]\n",
        "\n",
        "y_new_Pred=x_new_b.dot(w)\n",
        "\n",
        "print(\"\\n\")\n",
        "print(\"Predicted prices for New Data are: \")\n",
        "\n",
        "for n, (features, price) in enumerate(zip(x_new, y_new_Pred)):\n",
        "  print(f\"data Point {n+1}: Features = {features}, Predicted Price = {price[0]:.2f}\")\n",
        "\n",
        "\n"
      ],
      "metadata": {
        "colab": {
          "base_uri": "https://localhost:8080/"
        },
        "id": "Wlt-8mrNUM7f",
        "outputId": "a677100b-3034-49ef-d9e8-71893e0fc52b"
      },
      "execution_count": 19,
      "outputs": [
        {
          "output_type": "stream",
          "name": "stdout",
          "text": [
            "\n",
            "\n",
            "Predicted prices for New Data are: \n",
            "data Point 1: Features = [55.   2.5 12. ], Predicted Price = 127.19\n",
            "data Point 2: Features = [68.   3.5 17. ], Predicted Price = 98.56\n",
            "data Point 3: Features = [82.   4.5 22. ], Predicted Price = 73.16\n",
            "data Point 4: Features = [95.  5. 28.], Predicted Price = 90.07\n",
            "data Point 5: Features = [110.    5.5  32. ], Predicted Price = 107.57\n"
          ]
        }
      ]
    }
  ]
}